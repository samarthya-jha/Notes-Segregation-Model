{
  "nbformat": 4,
  "nbformat_minor": 0,
  "metadata": {
    "colab": {
      "name": "vgg16model.ipynb",
      "provenance": [],
      "collapsed_sections": []
    },
    "kernelspec": {
      "name": "python3",
      "display_name": "Python 3"
    }
  },
  "cells": [
    {
      "cell_type": "code",
      "metadata": {
        "id": "Qr-Sid5iPN2I",
        "colab": {
          "base_uri": "https://localhost:8080/",
          "height": 34
        },
        "outputId": "9139058c-9533-4f2f-d37c-12f23ce5e3f0"
      },
      "source": [
        "import keras.layers as kl\n",
        "import keras.optimizers as ko\n",
        "import keras.preprocessing.image as kimg\n",
        "from keras.applications.vgg16 import VGG16\n",
        "from keras.models import Model"
      ],
      "execution_count": null,
      "outputs": [
        {
          "output_type": "stream",
          "text": [
            "Using TensorFlow backend.\n"
          ],
          "name": "stderr"
        }
      ]
    },
    {
      "cell_type": "code",
      "metadata": {
        "id": "hGGbUVzyBXp2",
        "colab": {
          "base_uri": "https://localhost:8080/",
          "height": 54
        },
        "outputId": "60a80a15-be5b-46c9-fc70-9d80482d50c7"
      },
      "source": [
        "from google.colab import drive\n",
        "drive.mount('/content/drive')"
      ],
      "execution_count": null,
      "outputs": [
        {
          "output_type": "stream",
          "text": [
            "Drive already mounted at /content/drive; to attempt to forcibly remount, call drive.mount(\"/content/drive\", force_remount=True).\n"
          ],
          "name": "stdout"
        }
      ]
    },
    {
      "cell_type": "code",
      "metadata": {
        "id": "OtGC5EGKRK1w"
      },
      "source": [
        "import os\n",
        "import io\n",
        "import numpy as np\n",
        "from os import makedirs\n",
        "from os import listdir\n",
        "from shutil import copyfile"
      ],
      "execution_count": null,
      "outputs": []
    },
    {
      "cell_type": "code",
      "metadata": {
        "id": "mwFLTV9ARsl7"
      },
      "source": [
        "dataset='/content/drive/My Drive/train/dataset2/'"
      ],
      "execution_count": null,
      "outputs": []
    },
    {
      "cell_type": "code",
      "metadata": {
        "id": "nnDSu53gR3rN"
      },
      "source": [
        "label=['notes/','nonnotes/']"
      ],
      "execution_count": null,
      "outputs": []
    },
    {
      "cell_type": "code",
      "metadata": {
        "id": "w_EUaDzSR9y1"
      },
      "source": [
        "for i in label:\n",
        "  newdir=dataset+i\n",
        "  makedirs(newdir,exist_ok=True)"
      ],
      "execution_count": null,
      "outputs": []
    },
    {
      "cell_type": "code",
      "metadata": {
        "id": "oB8A2Ug5SRJN"
      },
      "source": [
        "source='/content/drive/My Drive/train/train/'"
      ],
      "execution_count": null,
      "outputs": []
    },
    {
      "cell_type": "code",
      "metadata": {
        "id": "mJ9IhVK6SVCc"
      },
      "source": [
        "for file in listdir(source):\n",
        "  src=source+'/'+file\n",
        "  if file.startswith('notes'):\n",
        "    dest=dataset+'notes/'+file\n",
        "    copyfile(src,dest)\n",
        "  elif file.startswith('non_notes'):\n",
        "    dest=dataset+'nonnotes/'+file\n",
        "    copyfile(src,dest)"
      ],
      "execution_count": null,
      "outputs": []
    },
    {
      "cell_type": "code",
      "metadata": {
        "id": "g90vgxqLTSj7"
      },
      "source": [
        "def modeldefinition():\n",
        "  model=VGG16(include_top=False, input_shape=(224,224,3))\n",
        "  for layers in model.layers:\n",
        "    layers.trainable=False\n",
        "  flat=kl.Flatten()(model.layers[-1].output)\n",
        "  clas=kl.Dense(128,activation='relu',kernel_initializer='he_uniform')(flat)\n",
        "  out=kl.Dense(1,activation='sigmoid')(clas)\n",
        "  model=Model(inputs=model.inputs,outputs=out)\n",
        "  opt=ko.SGD(lr=0.001,momentum=0.9)\n",
        "  model.compile(optimizer=opt,loss='binary_crossentropy',metrics=['accuracy'])\n",
        "  return model"
      ],
      "execution_count": null,
      "outputs": []
    },
    {
      "cell_type": "code",
      "metadata": {
        "id": "depY1pgOZeF8"
      },
      "source": [
        "def testing():\n",
        "  model=modeldefinition()\n",
        "  data=kimg.ImageDataGenerator(featurewise_center=True)\n",
        "  data.mean=[123.68,116.779,103.939]\n",
        "  train_on=data.flow_from_directory('/content/drive/My Drive/train/dataset2/',class_mode='binary',batch_size=64, target_size=(224,224))\n",
        "  model.fit_generator(train_on,steps_per_epoch=len(train_on),epochs=10,verbose=0)\n",
        "  model.save('/content/drive/My Drive/train/vgg16model.h5')"
      ],
      "execution_count": null,
      "outputs": []
    },
    {
      "cell_type": "code",
      "metadata": {
        "id": "Jr4euo6WbIqJ",
        "colab": {
          "base_uri": "https://localhost:8080/",
          "height": 34
        },
        "outputId": "8a20e62e-44a1-4420-f366-473026647c3c"
      },
      "source": [
        "testing()"
      ],
      "execution_count": null,
      "outputs": [
        {
          "output_type": "stream",
          "text": [
            "Found 1012 images belonging to 2 classes.\n"
          ],
          "name": "stdout"
        }
      ]
    },
    {
      "cell_type": "code",
      "metadata": {
        "id": "hhFQU7oNbKrj"
      },
      "source": [
        "def image(name):\n",
        "  img=kimg.img_to_array(name)\n",
        "  img=img.reshape(1,224,224,3)\n",
        "  img=img.astype('float32')\n",
        "  img=img-[123.68,116.779,103.939]\n",
        "  return img"
      ],
      "execution_count": null,
      "outputs": []
    },
    {
      "cell_type": "code",
      "metadata": {
        "id": "2VsoJXbksEUt"
      },
      "source": [
        "from keras.models import load_model\n",
        "from PIL import Image\n",
        "import base64"
      ],
      "execution_count": null,
      "outputs": []
    },
    {
      "cell_type": "code",
      "metadata": {
        "id": "XCTaU_EKrooX"
      },
      "source": [
        "model=load_model('/content/drive/My Drive/train/vgg16model.h5')"
      ],
      "execution_count": null,
      "outputs": []
    },
    {
      "cell_type": "code",
      "metadata": {
        "id": "eECXLDBKr8sj"
      },
      "source": [
        "import tensorflow as tf"
      ],
      "execution_count": null,
      "outputs": []
    },
    {
      "cell_type": "code",
      "metadata": {
        "id": "QSQT9z6vTiPR"
      },
      "source": [
        "model=tf.keras.models.load_model('/content/drive/My Drive/train/vgg16model.h5')"
      ],
      "execution_count": null,
      "outputs": []
    },
    {
      "cell_type": "code",
      "metadata": {
        "id": "-D9G1Uq_Ttus"
      },
      "source": [
        "converter=tf.lite.TFLiteConverter.from_keras_model(model)"
      ],
      "execution_count": null,
      "outputs": []
    },
    {
      "cell_type": "code",
      "metadata": {
        "id": "U9OwTw6wUPBN"
      },
      "source": [
        "tflite_model = converter.convert()"
      ],
      "execution_count": null,
      "outputs": []
    },
    {
      "cell_type": "code",
      "metadata": {
        "id": "RJSuUah0UTn5",
        "colab": {
          "base_uri": "https://localhost:8080/",
          "height": 34
        },
        "outputId": "d434dba1-5ad9-47b4-c94d-26ac247038c0"
      },
      "source": [
        "open('/content/drive/My Drive/train/converted_vgg16.tflite','wb').write(tflite_model)"
      ],
      "execution_count": null,
      "outputs": [
        {
          "output_type": "execute_result",
          "data": {
            "text/plain": [
              "71710920"
            ]
          },
          "metadata": {
            "tags": []
          },
          "execution_count": 12
        }
      ]
    },
    {
      "cell_type": "code",
      "metadata": {
        "id": "q4pIrp8XUd2b"
      },
      "source": [
        "import pickle"
      ],
      "execution_count": null,
      "outputs": []
    },
    {
      "cell_type": "code",
      "metadata": {
        "id": "fkvnTZ4lB3Wv"
      },
      "source": [
        "pickle.dump(model,open('/content/drive/My Drive/train/vgg16model.pkl','wb'))"
      ],
      "execution_count": null,
      "outputs": []
    },
    {
      "cell_type": "code",
      "metadata": {
        "id": "RXxA2QiTCBAJ"
      },
      "source": [
        "with open('/content/drive/My Drive/train/dataset_notes/test/notes/notes (226).jpg','rb') as file:\n",
        "  encoded=base64.b64encode(file.read())"
      ],
      "execution_count": null,
      "outputs": []
    },
    {
      "cell_type": "code",
      "metadata": {
        "id": "jlSAruBvC9_j"
      },
      "source": [
        "decoded=base64.b64decode(encoded)"
      ],
      "execution_count": null,
      "outputs": []
    },
    {
      "cell_type": "code",
      "metadata": {
        "id": "2KTPJ4F3MRgb",
        "colab": {
          "base_uri": "https://localhost:8080/",
          "height": 34
        },
        "outputId": "464c1b74-97c6-4363-8330-8e18145e207a"
      },
      "source": [
        "img=Image.open(io.BytesIO(decoded))\n",
        "img=img.resize((224,224))\n",
        "img=image(img)\n",
        "predictions=model.predict(img)\n",
        "predictions[0][0]"
      ],
      "execution_count": null,
      "outputs": [
        {
          "output_type": "execute_result",
          "data": {
            "text/plain": [
              "1.0"
            ]
          },
          "metadata": {
            "tags": []
          },
          "execution_count": 74
        }
      ]
    },
    {
      "cell_type": "code",
      "metadata": {
        "id": "3laBDj-lNrcJ"
      },
      "source": [
        ""
      ],
      "execution_count": null,
      "outputs": []
    }
  ]
}